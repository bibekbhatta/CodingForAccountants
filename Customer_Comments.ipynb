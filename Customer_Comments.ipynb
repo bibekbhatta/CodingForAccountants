{
 "cells": [
  {
   "cell_type": "code",
   "execution_count": 34,
   "id": "f9fc8e7a",
   "metadata": {},
   "outputs": [],
   "source": [
    "import pandas as pd # importing the required modules"
   ]
  },
  {
   "cell_type": "code",
   "execution_count": 20,
   "id": "e59a9a96",
   "metadata": {
    "scrolled": true
   },
   "outputs": [
    {
     "name": "stdout",
     "output_type": "stream",
     "text": [
      "Collecting regex\n",
      "  Downloading regex-2021.11.10-cp36-cp36m-manylinux_2_17_x86_64.manylinux2014_x86_64.whl (748 kB)\n",
      "     |████████████████████████████████| 748 kB 21.6 MB/s            \n",
      "\u001b[?25hInstalling collected packages: regex\n",
      "Successfully installed regex-2021.11.10\n"
     ]
    }
   ],
   "source": [
    "!pip install regex # install regular expression package if not installed already"
   ]
  },
  {
   "cell_type": "code",
   "execution_count": 35,
   "id": "44107f32",
   "metadata": {},
   "outputs": [
    {
     "name": "stdout",
     "output_type": "stream",
     "text": [
      "Requirement already satisfied: emoji in /srv/conda/envs/notebook/lib/python3.6/site-packages (1.6.1)\r\n"
     ]
    }
   ],
   "source": [
    "#!pip install emoji # install emoji package if not already installed"
   ]
  },
  {
   "cell_type": "code",
   "execution_count": 36,
   "id": "1d99c962",
   "metadata": {},
   "outputs": [],
   "source": [
    "# import both regex and emoji modules\n",
    "import regex\n",
    "import emoji"
   ]
  },
  {
   "cell_type": "code",
   "execution_count": 27,
   "id": "4380a92d",
   "metadata": {},
   "outputs": [],
   "source": [
    "def split_count(text): # defining a function to count emojis in a text\n",
    "    emoji_list = []\n",
    "    data = regex.findall(r'\\X', text)\n",
    "    for word in data:\n",
    "        if any(char in emoji.UNICODE_EMOJI['en'] for char in word):\n",
    "            emoji_list.append(word)\n",
    "    return emoji_list"
   ]
  },
  {
   "cell_type": "code",
   "execution_count": 30,
   "id": "da30008e",
   "metadata": {
    "scrolled": true
   },
   "outputs": [],
   "source": [
    "\n",
    "\n",
    "text1 = '''this product rocks 💓 ...\n",
    "this product looks 😎 cool... \n",
    "love it 👌 peace 🙏.....\n",
    " many thanks for releasing this product 🙏🙏 ...\n",
    " it broke within two days grr... 😫  rubbish....\n",
    " what a lovely product...😍😍...'''\n",
    "\n"
   ]
  },
  {
   "cell_type": "code",
   "execution_count": 31,
   "id": "94e570c9",
   "metadata": {},
   "outputs": [],
   "source": [
    "counter = split_count(text1) # using the function defined above\n",
    "str=''\n",
    "for i in counter:\n",
    "    list=[c for c in i if c in emoji.UNICODE_EMOJI['en']]\n",
    "    for y in list:\n",
    "        str=str+y\n",
    "\n",
    "# creating dictionary with frequency\n",
    "result={}\n",
    "for i in set(str):\n",
    "    result[i]=str.count(i)\n",
    "    \n",
    "keys=[*result.keys()]    \n",
    "values=[*result.values()] \n",
    "\n"
   ]
  },
  {
   "cell_type": "code",
   "execution_count": 32,
   "id": "dce7cb97",
   "metadata": {},
   "outputs": [],
   "source": [
    "#creating a table / dataframe as df\n",
    "df=pd.DataFrame({'Token':keys[:],'Frequency':values[:]})\n"
   ]
  },
  {
   "cell_type": "code",
   "execution_count": 33,
   "id": "18fd8324",
   "metadata": {},
   "outputs": [
    {
     "data": {
      "text/html": [
       "<div>\n",
       "<style scoped>\n",
       "    .dataframe tbody tr th:only-of-type {\n",
       "        vertical-align: middle;\n",
       "    }\n",
       "\n",
       "    .dataframe tbody tr th {\n",
       "        vertical-align: top;\n",
       "    }\n",
       "\n",
       "    .dataframe thead th {\n",
       "        text-align: right;\n",
       "    }\n",
       "</style>\n",
       "<table border=\"1\" class=\"dataframe\">\n",
       "  <thead>\n",
       "    <tr style=\"text-align: right;\">\n",
       "      <th></th>\n",
       "      <th>Token</th>\n",
       "      <th>Frequency</th>\n",
       "    </tr>\n",
       "  </thead>\n",
       "  <tbody>\n",
       "    <tr>\n",
       "      <th>0</th>\n",
       "      <td>🙏</td>\n",
       "      <td>3</td>\n",
       "    </tr>\n",
       "    <tr>\n",
       "      <th>1</th>\n",
       "      <td>😎</td>\n",
       "      <td>1</td>\n",
       "    </tr>\n",
       "    <tr>\n",
       "      <th>2</th>\n",
       "      <td>😍</td>\n",
       "      <td>2</td>\n",
       "    </tr>\n",
       "    <tr>\n",
       "      <th>3</th>\n",
       "      <td>💓</td>\n",
       "      <td>1</td>\n",
       "    </tr>\n",
       "    <tr>\n",
       "      <th>4</th>\n",
       "      <td>👌</td>\n",
       "      <td>1</td>\n",
       "    </tr>\n",
       "    <tr>\n",
       "      <th>5</th>\n",
       "      <td>😫</td>\n",
       "      <td>1</td>\n",
       "    </tr>\n",
       "  </tbody>\n",
       "</table>\n",
       "</div>"
      ],
      "text/plain": [
       "  Token  Frequency\n",
       "0     🙏          3\n",
       "1     😎          1\n",
       "2     😍          2\n",
       "3     💓          1\n",
       "4     👌          1\n",
       "5     😫          1"
      ]
     },
     "execution_count": 33,
     "metadata": {},
     "output_type": "execute_result"
    }
   ],
   "source": [
    "#viewing dataframe\n",
    "# use df.head(10) for top 10 rows or df.tail(10) for botton 10 rows\n",
    "df "
   ]
  },
  {
   "cell_type": "code",
   "execution_count": null,
   "id": "e1839efa",
   "metadata": {},
   "outputs": [],
   "source": []
  }
 ],
 "metadata": {
  "kernelspec": {
   "display_name": "Python 3 (ipykernel)",
   "language": "python",
   "name": "python3"
  },
  "language_info": {
   "codemirror_mode": {
    "name": "ipython",
    "version": 3
   },
   "file_extension": ".py",
   "mimetype": "text/x-python",
   "name": "python",
   "nbconvert_exporter": "python",
   "pygments_lexer": "ipython3",
   "version": "3.8.12"
  }
 },
 "nbformat": 4,
 "nbformat_minor": 5
}
