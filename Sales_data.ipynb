{
 "cells": [
  {
   "cell_type": "code",
   "execution_count": 1,
   "id": "3016fb46",
   "metadata": {},
   "outputs": [],
   "source": [
    "# importing the popular package called numpy and giving it a name 'np'\n",
    "import numpy as np"
   ]
  },
  {
   "cell_type": "code",
   "execution_count": 2,
   "id": "ebcc6892",
   "metadata": {},
   "outputs": [],
   "source": [
    "#artificially creating sales data for three Cities\n",
    "\n",
    "salesA = np.random.randint(5,150, size=(5000000,1)) #create random sales data for City A\n",
    "salesB = np.random.randint(45,175, size=(5000000,1)) #create random sales data for City B\n",
    "salesC = np.random.randint(140,450, size=(5000000,1)) #create random sales data for City C"
   ]
  },
  {
   "cell_type": "code",
   "execution_count": 3,
   "id": "b9bd67ad",
   "metadata": {},
   "outputs": [],
   "source": [
    "# sales of all three cities brought together side by side (Axis=1)\n",
    "salesAll = np.concatenate((salesA,salesB,salesC), axis=1)"
   ]
  },
  {
   "cell_type": "code",
   "execution_count": 4,
   "id": "2dce7ef5",
   "metadata": {},
   "outputs": [],
   "source": [
    "#importing pandas package for data manippulation and giving it a name 'pd'\n",
    "import pandas as pd"
   ]
  },
  {
   "cell_type": "code",
   "execution_count": 5,
   "id": "b660e6ab",
   "metadata": {},
   "outputs": [],
   "source": [
    "# bringing the sales data into pandas table\n",
    "data = pd.DataFrame(salesAll, columns=['CityA','CityB','CityC']) "
   ]
  },
  {
   "cell_type": "code",
   "execution_count": 6,
   "id": "616dfe17",
   "metadata": {},
   "outputs": [
    {
     "data": {
      "text/html": [
       "<div>\n",
       "<style scoped>\n",
       "    .dataframe tbody tr th:only-of-type {\n",
       "        vertical-align: middle;\n",
       "    }\n",
       "\n",
       "    .dataframe tbody tr th {\n",
       "        vertical-align: top;\n",
       "    }\n",
       "\n",
       "    .dataframe thead th {\n",
       "        text-align: right;\n",
       "    }\n",
       "</style>\n",
       "<table border=\"1\" class=\"dataframe\">\n",
       "  <thead>\n",
       "    <tr style=\"text-align: right;\">\n",
       "      <th></th>\n",
       "      <th>CityA</th>\n",
       "      <th>CityB</th>\n",
       "      <th>CityC</th>\n",
       "    </tr>\n",
       "  </thead>\n",
       "  <tbody>\n",
       "    <tr>\n",
       "      <th>count</th>\n",
       "      <td>5.000000e+06</td>\n",
       "      <td>5.000000e+06</td>\n",
       "      <td>5.000000e+06</td>\n",
       "    </tr>\n",
       "    <tr>\n",
       "      <th>mean</th>\n",
       "      <td>7.701315e+01</td>\n",
       "      <td>1.094853e+02</td>\n",
       "      <td>2.945173e+02</td>\n",
       "    </tr>\n",
       "    <tr>\n",
       "      <th>std</th>\n",
       "      <td>4.184871e+01</td>\n",
       "      <td>3.753307e+01</td>\n",
       "      <td>8.948929e+01</td>\n",
       "    </tr>\n",
       "    <tr>\n",
       "      <th>min</th>\n",
       "      <td>5.000000e+00</td>\n",
       "      <td>4.500000e+01</td>\n",
       "      <td>1.400000e+02</td>\n",
       "    </tr>\n",
       "    <tr>\n",
       "      <th>25%</th>\n",
       "      <td>4.100000e+01</td>\n",
       "      <td>7.700000e+01</td>\n",
       "      <td>2.170000e+02</td>\n",
       "    </tr>\n",
       "    <tr>\n",
       "      <th>50%</th>\n",
       "      <td>7.700000e+01</td>\n",
       "      <td>1.090000e+02</td>\n",
       "      <td>2.950000e+02</td>\n",
       "    </tr>\n",
       "    <tr>\n",
       "      <th>75%</th>\n",
       "      <td>1.130000e+02</td>\n",
       "      <td>1.420000e+02</td>\n",
       "      <td>3.720000e+02</td>\n",
       "    </tr>\n",
       "    <tr>\n",
       "      <th>max</th>\n",
       "      <td>1.490000e+02</td>\n",
       "      <td>1.740000e+02</td>\n",
       "      <td>4.490000e+02</td>\n",
       "    </tr>\n",
       "  </tbody>\n",
       "</table>\n",
       "</div>"
      ],
      "text/plain": [
       "              CityA         CityB         CityC\n",
       "count  5.000000e+06  5.000000e+06  5.000000e+06\n",
       "mean   7.701315e+01  1.094853e+02  2.945173e+02\n",
       "std    4.184871e+01  3.753307e+01  8.948929e+01\n",
       "min    5.000000e+00  4.500000e+01  1.400000e+02\n",
       "25%    4.100000e+01  7.700000e+01  2.170000e+02\n",
       "50%    7.700000e+01  1.090000e+02  2.950000e+02\n",
       "75%    1.130000e+02  1.420000e+02  3.720000e+02\n",
       "max    1.490000e+02  1.740000e+02  4.490000e+02"
      ]
     },
     "execution_count": 6,
     "metadata": {},
     "output_type": "execute_result"
    }
   ],
   "source": [
    "# numerical summary of the sales data\n",
    "data.describe()"
   ]
  },
  {
   "cell_type": "code",
   "execution_count": 7,
   "id": "1b0a8ce9",
   "metadata": {},
   "outputs": [
    {
     "data": {
      "text/plain": [
       "<AxesSubplot:>"
      ]
     },
     "execution_count": 7,
     "metadata": {},
     "output_type": "execute_result"
    },
    {
     "data": {
      "image/png": "[encoded data removed]",
      "text/plain": [
       "<Figure size 432x288 with 1 Axes>"
      ]
     },
     "metadata": {
      "needs_background": "light"
     },
     "output_type": "display_data"
    }
   ],
   "source": [
    "# visual/box plot for sales data\n",
    "data.plot.box() \n"
   ]
  },
  {
   "cell_type": "code",
   "execution_count": 8,
   "id": "eded5011",
   "metadata": {},
   "outputs": [
    {
     "data": {
      "text/plain": [
       "408    16551\n",
       "430    16450\n",
       "348    16435\n",
       "233    16422\n",
       "190    16394\n",
       "       ...  \n",
       "178    15823\n",
       "339    15802\n",
       "173    15798\n",
       "359    15792\n",
       "283    15762\n",
       "Name: CityC, Length: 310, dtype: int64"
      ]
     },
     "execution_count": 8,
     "metadata": {},
     "output_type": "execute_result"
    }
   ],
   "source": [
    "# frequency table for sales amount for CityC\n",
    "data.CityC.value_counts() "
   ]
  },
  {
   "cell_type": "code",
   "execution_count": null,
   "id": "e0e3dc7b",
   "metadata": {},
   "outputs": [],
   "source": []
  }
 ],
 "metadata": {
  "kernelspec": {
   "display_name": "Python 3 (ipykernel)",
   "language": "python",
   "name": "python3"
  },
  "language_info": {
   "codemirror_mode": {
    "name": "ipython",
    "version": 3
   },
   "file_extension": ".py",
   "mimetype": "text/x-python",
   "name": "python",
   "nbconvert_exporter": "python",
   "pygments_lexer": "ipython3",
   "version": "3.8.12"
  }
 },
 "nbformat": 4,
 "nbformat_minor": 5
}
