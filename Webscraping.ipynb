{
 "cells": [
  {
   "cell_type": "code",
   "execution_count": 1,
   "id": "7573afdf",
   "metadata": {},
   "outputs": [],
   "source": [
    "import os # importing necessary modules\n",
    "import requests\n",
    "import numpy as np\n"
   ]
  },
  {
   "cell_type": "code",
   "execution_count": 2,
   "id": "ad42ebdb",
   "metadata": {},
   "outputs": [],
   "source": [
    "#!pip install bs4 #  bs4 package is for webscraping; install if not already installed"
   ]
  },
  {
   "cell_type": "code",
   "execution_count": 12,
   "id": "bf0fd2e8",
   "metadata": {},
   "outputs": [],
   "source": [
    "from bs4 import BeautifulSoup # BeautifulSoup is the package within bs4 that is used to parse text from webpage"
   ]
  },
  {
   "cell_type": "code",
   "execution_count": 14,
   "id": "b1d698f4",
   "metadata": {},
   "outputs": [],
   "source": [
    "url = \"http://books.toscrape.com/catalogue/category/books/travel_2/index.html\" \n",
    "response = requests.get(url) # getting the information from webpage\n",
    "soup = BeautifulSoup(response.content, \"html.parser\") # parsing the extracted text to get required information\n",
    "\n",
    "titles = soup.find_all('h3') # find title\n",
    "prices = soup.find_all('p', class_='price_color') #find price\n",
    "stocks = soup.find_all('p', class_='instock availability') #find availability\n",
    "\n",
    "Table = [] # creating an empty table as placeholder\n",
    "# adding information to the table\n"
   ]
  },
  {
   "cell_type": "code",
   "execution_count": 15,
   "id": "fb41a640",
   "metadata": {},
   "outputs": [
    {
     "name": "stdout",
     "output_type": "stream",
     "text": [
      "It's Only the Himalayas £45.17 In stock\n",
      "Full Moon over Noah’s ... £49.43 In stock\n",
      "See America: A Celebration ... £48.87 In stock\n",
      "Vagabonding: An Uncommon Guide ... £36.94 In stock\n",
      "Under the Tuscan Sun £37.33 In stock\n",
      "A Summer In Europe £44.34 In stock\n",
      "The Great Railway Bazaar £30.54 In stock\n",
      "A Year in Provence ... £56.88 In stock\n",
      "The Road to Little ... £23.21 In stock\n",
      "Neither Here nor There: ... £38.95 In stock\n",
      "1,000 Places to See ... £26.08 In stock\n",
      "File named Competitor.csv has now been saved...\n"
     ]
    }
   ],
   "source": [
    "for title, price, stock in zip(titles, prices, stocks):\n",
    "    Table += [(title.get_text().replace(',',''), price.get_text(), stock.get_text().strip())] \n",
    "    print (title.get_text(),price.get_text(),stock.get_text().strip()) # print the book names in console\n"
   ]
  },
  {
   "cell_type": "code",
   "execution_count": 16,
   "id": "88497658",
   "metadata": {},
   "outputs": [
    {
     "name": "stdout",
     "output_type": "stream",
     "text": [
      "File named Competitor.csv has now been saved...\n"
     ]
    }
   ],
   "source": [
    "#save the extracted data with the name Competitor.csv; provide required path to a specific folder\n",
    "np.savetxt('Competitor.csv', Table, header='Book,Price,Availability', fmt='%s', delimiter=', ', newline='\\n', comments='')\n",
    "print('File named Competitor.csv has now been saved...')"
   ]
  },
  {
   "cell_type": "code",
   "execution_count": null,
   "id": "69b11227",
   "metadata": {},
   "outputs": [],
   "source": []
  }
 ],
 "metadata": {
  "kernelspec": {
   "display_name": "Python 3 (ipykernel)",
   "language": "python",
   "name": "python3"
  },
  "language_info": {
   "codemirror_mode": {
    "name": "ipython",
    "version": 3
   },
   "file_extension": ".py",
   "mimetype": "text/x-python",
   "name": "python",
   "nbconvert_exporter": "python",
   "pygments_lexer": "ipython3",
   "version": "3.8.12"
  }
 },
 "nbformat": 4,
 "nbformat_minor": 5
}
