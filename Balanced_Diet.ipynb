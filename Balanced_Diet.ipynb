{
 "cells": [
  {
   "cell_type": "code",
   "execution_count": 1,
   "metadata": {},
   "outputs": [],
   "source": [
    "import os\n",
    "os.chdir('C:/Users/Bibek/OneDrive/JupyterFiles/OptimizationLP/Data')"
   ]
  },
  {
   "cell_type": "code",
   "execution_count": 2,
   "metadata": {},
   "outputs": [],
   "source": [
    "import pandas as pd\n",
    "from pulp import *"
   ]
  },
  {
   "cell_type": "markdown",
   "metadata": {},
   "source": [
    "### Read the given nutrition dataset into a Pandas DataFrame object\n",
    "Note we are reading only the first 64 rows with `nrows=64` argument because we just want to read all the nutrients informtion and not the maximum/minimum bounds in the dataset. We will enter those bounds in the optimization problem separately."
   ]
  },
  {
   "cell_type": "code",
   "execution_count": 3,
   "metadata": {},
   "outputs": [],
   "source": [
    "#df = pd.read_excel(\"dietForChapter.xls\",nrows=6) # example for book chapter"
   ]
  },
  {
   "cell_type": "markdown",
   "metadata": {},
   "source": [
    "### Show first 5 rows of the dataset"
   ]
  },
  {
   "cell_type": "code",
   "execution_count": 27,
   "metadata": {},
   "outputs": [],
   "source": [
    "data = {'Foods' : ['Carrots', 'Potatoes', 'Tomatoes', 'Meat', 'Rice', 'Peas'],\n",
    "      'PricePerUnit' : [0.4, 0.5, 0.75, 1.5, 0.35, 0.4],\n",
    "      'Calories' : [100, 1000, 200, 200, 1000, 150],\n",
    "      'Protein' : [8, 8, 16, 40, 12, 24],\n",
    "      'Vitamin' : [8, 4, 6, 2, 1, 2],\n",
    "      'Fiber' : [12, 3, 8, 3, 2, 15] }\n",
    "\n",
    "df = pd.DataFrame(data, columns = ['Foods', 'PricePerUnit','Calories','Protein','Vitamin','Fiber'])"
   ]
  },
  {
   "cell_type": "code",
   "execution_count": 28,
   "metadata": {
    "scrolled": true
   },
   "outputs": [
    {
     "data": {
      "text/html": [
       "<div>\n",
       "<style scoped>\n",
       "    .dataframe tbody tr th:only-of-type {\n",
       "        vertical-align: middle;\n",
       "    }\n",
       "\n",
       "    .dataframe tbody tr th {\n",
       "        vertical-align: top;\n",
       "    }\n",
       "\n",
       "    .dataframe thead th {\n",
       "        text-align: right;\n",
       "    }\n",
       "</style>\n",
       "<table border=\"1\" class=\"dataframe\">\n",
       "  <thead>\n",
       "    <tr style=\"text-align: right;\">\n",
       "      <th></th>\n",
       "      <th>Foods</th>\n",
       "      <th>PricePerUnit</th>\n",
       "      <th>Calories</th>\n",
       "      <th>Protein</th>\n",
       "      <th>Vitamin</th>\n",
       "      <th>Fiber</th>\n",
       "    </tr>\n",
       "  </thead>\n",
       "  <tbody>\n",
       "    <tr>\n",
       "      <th>0</th>\n",
       "      <td>Carrots</td>\n",
       "      <td>0.40</td>\n",
       "      <td>100</td>\n",
       "      <td>8</td>\n",
       "      <td>8</td>\n",
       "      <td>12</td>\n",
       "    </tr>\n",
       "    <tr>\n",
       "      <th>1</th>\n",
       "      <td>Potatoes</td>\n",
       "      <td>0.50</td>\n",
       "      <td>1000</td>\n",
       "      <td>8</td>\n",
       "      <td>4</td>\n",
       "      <td>3</td>\n",
       "    </tr>\n",
       "    <tr>\n",
       "      <th>2</th>\n",
       "      <td>Tomatoes</td>\n",
       "      <td>0.75</td>\n",
       "      <td>200</td>\n",
       "      <td>16</td>\n",
       "      <td>6</td>\n",
       "      <td>8</td>\n",
       "    </tr>\n",
       "    <tr>\n",
       "      <th>3</th>\n",
       "      <td>Meat</td>\n",
       "      <td>1.50</td>\n",
       "      <td>200</td>\n",
       "      <td>40</td>\n",
       "      <td>2</td>\n",
       "      <td>3</td>\n",
       "    </tr>\n",
       "    <tr>\n",
       "      <th>4</th>\n",
       "      <td>Rice</td>\n",
       "      <td>0.35</td>\n",
       "      <td>1000</td>\n",
       "      <td>12</td>\n",
       "      <td>1</td>\n",
       "      <td>2</td>\n",
       "    </tr>\n",
       "    <tr>\n",
       "      <th>5</th>\n",
       "      <td>Peas</td>\n",
       "      <td>0.40</td>\n",
       "      <td>150</td>\n",
       "      <td>24</td>\n",
       "      <td>2</td>\n",
       "      <td>15</td>\n",
       "    </tr>\n",
       "  </tbody>\n",
       "</table>\n",
       "</div>"
      ],
      "text/plain": [
       "      Foods  PricePerUnit  Calories  Protein  Vitamin  Fiber\n",
       "0   Carrots          0.40       100        8        8     12\n",
       "1  Potatoes          0.50      1000        8        4      3\n",
       "2  Tomatoes          0.75       200       16        6      8\n",
       "3      Meat          1.50       200       40        2      3\n",
       "4      Rice          0.35      1000       12        1      2\n",
       "5      Peas          0.40       150       24        2     15"
      ]
     },
     "execution_count": 28,
     "metadata": {},
     "output_type": "execute_result"
    }
   ],
   "source": [
    "df.head(10)"
   ]
  },
  {
   "cell_type": "markdown",
   "metadata": {},
   "source": [
    "### Create the `PuLP` problem variable. Since it is a cost minimization problem, we need to use `LpMinimize`"
   ]
  },
  {
   "cell_type": "code",
   "execution_count": 5,
   "metadata": {},
   "outputs": [],
   "source": [
    "# Create the 'prob' variable to contain the problem data\n",
    "prob = LpProblem(\"Simple_Diet_Problem\",LpMinimize)"
   ]
  },
  {
   "cell_type": "markdown",
   "metadata": {},
   "source": [
    "### Create a list of food items from the dataset"
   ]
  },
  {
   "cell_type": "code",
   "execution_count": 6,
   "metadata": {},
   "outputs": [],
   "source": [
    "# Creates a list of the Ingredients\n",
    "food_items = list(df['Foods'])"
   ]
  },
  {
   "cell_type": "code",
   "execution_count": 7,
   "metadata": {
    "scrolled": true
   },
   "outputs": [
    {
     "name": "stdout",
     "output_type": "stream",
     "text": [
      "So, the food items to consdier, are\n",
      "----------------------------------------------------------------------------------------------------\n",
      "Carrots, Potatoes, Tomatoes, Meat, Rice, Peas, "
     ]
    }
   ],
   "source": [
    "print(\"So, the food items to consdier, are\\n\"+\"-\"*100)\n",
    "for f in food_items:\n",
    "    print(f,end=', ')"
   ]
  },
  {
   "cell_type": "code",
   "execution_count": 8,
   "metadata": {},
   "outputs": [],
   "source": [
    "#food_items[1]"
   ]
  },
  {
   "cell_type": "markdown",
   "metadata": {},
   "source": [
    "### Create a dictinary of costs for all food items"
   ]
  },
  {
   "cell_type": "code",
   "execution_count": 9,
   "metadata": {},
   "outputs": [],
   "source": [
    "costs = dict(zip(food_items,df['PricePerUnit']))"
   ]
  },
  {
   "cell_type": "code",
   "execution_count": 10,
   "metadata": {},
   "outputs": [
    {
     "data": {
      "text/plain": [
       "{'Carrots': 0.4,\n",
       " 'Potatoes': 0.5,\n",
       " 'Tomatoes': 0.75,\n",
       " 'Meat': 1.5,\n",
       " 'Rice': 0.35,\n",
       " 'Peas': 0.4}"
      ]
     },
     "execution_count": 10,
     "metadata": {},
     "output_type": "execute_result"
    }
   ],
   "source": [
    "costs"
   ]
  },
  {
   "cell_type": "markdown",
   "metadata": {},
   "source": [
    "### Create a dictionary of calories for all food items"
   ]
  },
  {
   "cell_type": "code",
   "execution_count": 11,
   "metadata": {},
   "outputs": [],
   "source": [
    "calories = dict(zip(food_items,df['Calories']))\n",
    "protein = dict(zip(food_items,df['Protein']))\n",
    "vitamin = dict(zip(food_items,df['Vitamin']))\n",
    "fiber = dict(zip(food_items,df['Fiber']))"
   ]
  },
  {
   "cell_type": "markdown",
   "metadata": {},
   "source": [
    "### Create a dictionary of food items with lower bound"
   ]
  },
  {
   "cell_type": "code",
   "execution_count": 12,
   "metadata": {},
   "outputs": [],
   "source": [
    "# A dictionary called 'food_vars' is created to contain the referenced Variables\n",
    "food_vars = LpVariable.dicts(\"Food\",food_items,0,cat='Continuous')"
   ]
  },
  {
   "cell_type": "code",
   "execution_count": 13,
   "metadata": {},
   "outputs": [
    {
     "data": {
      "text/plain": [
       "{'Carrots': Food_Carrots,\n",
       " 'Potatoes': Food_Potatoes,\n",
       " 'Tomatoes': Food_Tomatoes,\n",
       " 'Meat': Food_Meat,\n",
       " 'Rice': Food_Rice,\n",
       " 'Peas': Food_Peas}"
      ]
     },
     "execution_count": 13,
     "metadata": {},
     "output_type": "execute_result"
    }
   ],
   "source": [
    "food_vars"
   ]
  },
  {
   "cell_type": "markdown",
   "metadata": {},
   "source": [
    "### Adding the objective function to the problem"
   ]
  },
  {
   "cell_type": "code",
   "execution_count": 14,
   "metadata": {},
   "outputs": [],
   "source": [
    "# The objective function is added to 'prob' first\n",
    "prob += lpSum([costs[i]*food_vars[i] for i in food_items]), \"Total Cost of lunch pack\""
   ]
  },
  {
   "cell_type": "markdown",
   "metadata": {},
   "source": [
    "### Adding the constraints to the problem\n"
   ]
  },
  {
   "cell_type": "code",
   "execution_count": 15,
   "metadata": {},
   "outputs": [],
   "source": [
    "# Calory\n",
    "prob += lpSum([calories[f] * food_vars[f] for f in food_items]) >= 800.0, \"CaloriesMinimum\"\n",
    "prob += lpSum([calories[f] * food_vars[f] for f in food_items]) <= 1400.0, \"CalorieslMaximum\"\n",
    "\n",
    "# Protein\n",
    "prob += lpSum([protein[f] * food_vars[f] for f in food_items]) >= 50.0, \"ProteinMinimum\"\n",
    "prob += lpSum([protein[f] * food_vars[f] for f in food_items]) <= 90.0, \"ProteinMaximum\"\n",
    "\n",
    "# Vitamin\n",
    "prob += lpSum([vitamin[f] * food_vars[f] for f in food_items]) >= 10.0, \"VitaminMinimum\"\n",
    "prob += lpSum([vitamin[f] * food_vars[f] for f in food_items]) <= 15.0, \"VitaminMaximum\"\n",
    "\n",
    "# Fiber\n",
    "prob += lpSum([fiber[f] * food_vars[f] for f in food_items]) >= 15.0, \"FiberMinimum\"\n",
    "prob += lpSum([fiber[f] * food_vars[f] for f in food_items]) <= 25.0, \"FiberMaximum\"\n"
   ]
  },
  {
   "cell_type": "markdown",
   "metadata": {},
   "source": [
    "### Writing problem data to a `.lp` file"
   ]
  },
  {
   "cell_type": "code",
   "execution_count": 16,
   "metadata": {},
   "outputs": [
    {
     "data": {
      "text/plain": [
       "[Food_Carrots, Food_Meat, Food_Peas, Food_Potatoes, Food_Rice, Food_Tomatoes]"
      ]
     },
     "execution_count": 16,
     "metadata": {},
     "output_type": "execute_result"
    }
   ],
   "source": [
    "# The problem data is written to an .lp file\n",
    "prob.writeLP(\"SimpleDietProblem.lp\")"
   ]
  },
  {
   "cell_type": "markdown",
   "metadata": {},
   "source": [
    "### Run the solver"
   ]
  },
  {
   "cell_type": "code",
   "execution_count": 17,
   "metadata": {},
   "outputs": [
    {
     "data": {
      "text/plain": [
       "1"
      ]
     },
     "execution_count": 17,
     "metadata": {},
     "output_type": "execute_result"
    }
   ],
   "source": [
    "# The problem is solved using PuLP's choice of Solver\n",
    "prob.solve()"
   ]
  },
  {
   "cell_type": "markdown",
   "metadata": {},
   "source": [
    "### Print the problem solution status `'optimal'`, `'infeasible'`, `'unbounded'` etc..."
   ]
  },
  {
   "cell_type": "code",
   "execution_count": 18,
   "metadata": {},
   "outputs": [
    {
     "name": "stdout",
     "output_type": "stream",
     "text": [
      "Status: Optimal\n"
     ]
    }
   ],
   "source": [
    "# The status of the solution is printed to the screen\n",
    "print(\"Status:\", LpStatus[prob.status])"
   ]
  },
  {
   "cell_type": "markdown",
   "metadata": {},
   "source": [
    "### Scan through the problem variables and print out only if the variable quanity is positive i.e. it is included in the optimal solution"
   ]
  },
  {
   "cell_type": "code",
   "execution_count": 19,
   "metadata": {},
   "outputs": [
    {
     "name": "stdout",
     "output_type": "stream",
     "text": [
      "Therefore, the optimal (least cost) lunch pack should contain\n",
      "--------------------------------------------------------------------------------------------------------------\n",
      "Food_Carrots = 0.843907\n",
      "Food_Meat = 0.266491\n",
      "Food_Peas = 0.785647\n",
      "Food_Rice = 1.14446\n"
     ]
    }
   ],
   "source": [
    "print(\"Therefore, the optimal (least cost) lunch pack should contain\\n\"+\"-\"*110)\n",
    "for v in prob.variables():\n",
    "    if v.varValue>0:\n",
    "        print(v.name, \"=\", v.varValue)"
   ]
  },
  {
   "cell_type": "markdown",
   "metadata": {},
   "source": [
    "### Print the optimal diet cost"
   ]
  },
  {
   "cell_type": "code",
   "execution_count": 20,
   "metadata": {},
   "outputs": [
    {
     "name": "stdout",
     "output_type": "stream",
     "text": [
      "The total cost of this lunch pack is: $1.45\n"
     ]
    }
   ],
   "source": [
    "print(\"The total cost of this lunch pack is: ${}\".format(round(value(prob.objective),2)))"
   ]
  },
  {
   "cell_type": "code",
   "execution_count": 33,
   "metadata": {},
   "outputs": [],
   "source": [
    "#for v in prob.variables():\n",
    "    #print(v.name, \"=\", v.varValue)"
   ]
  },
  {
   "cell_type": "code",
   "execution_count": null,
   "metadata": {},
   "outputs": [],
   "source": []
  }
 ],
 "metadata": {
  "kernelspec": {
   "display_name": "Python 3",
   "language": "python",
   "name": "python3"
  },
  "language_info": {
   "codemirror_mode": {
    "name": "ipython",
    "version": 3
   },
   "file_extension": ".py",
   "mimetype": "text/x-python",
   "name": "python",
   "nbconvert_exporter": "python",
   "pygments_lexer": "ipython3",
   "version": "3.8.8"
  },
  "latex_envs": {
   "LaTeX_envs_menu_present": true,
   "autoclose": false,
   "autocomplete": true,
   "bibliofile": "biblio.bib",
   "cite_by": "apalike",
   "current_citInitial": 1,
   "eqLabelWithNumbers": true,
   "eqNumInitial": 1,
   "hotkeys": {
    "equation": "Ctrl-E",
    "itemize": "Ctrl-I"
   },
   "labels_anchors": false,
   "latex_user_defs": false,
   "report_style_numbering": false,
   "user_envs_cfg": false
  }
 },
 "nbformat": 4,
 "nbformat_minor": 2
}
